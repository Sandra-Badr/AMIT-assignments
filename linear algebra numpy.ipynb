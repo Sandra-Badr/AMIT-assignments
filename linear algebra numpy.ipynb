{
 "cells": [
  {
   "cell_type": "markdown",
   "metadata": {},
   "source": [
    "## Write a Numpy program to compute the multiplication of two given matrixes"
   ]
  },
  {
   "cell_type": "code",
   "execution_count": null,
   "metadata": {},
   "outputs": [],
   "source": [
    "import numpy as np \n",
    "\n",
    "x = ([0 , 9 , 2],[8 , 6 , 3 ],[5 , 10 , 3]) \n",
    "\n",
    "y = ([6 , 4 , 9],[9 , 3 , 7 ],[2 , 5 , 6]) \n",
    "\n",
    "result = np.dot(x,y)\n",
    "\n",
    "print('matrix(1)=', x)\n",
    "\n",
    "print('matrix(2)=', y)\n",
    "\n",
    "print(\"the multiplication result = \")\n",
    "\n",
    "print(result)"
   ]
  },
  {
   "cell_type": "markdown",
   "metadata": {},
   "source": [
    "matrix(1)= ([0, 9, 2], [8, 6, 3], [5, 10, 3])\n",
    "matrix(2)= ([6, 4, 9], [9, 3, 7], [2, 5, 6])\n",
    "the multiplication result = \n",
    "[[ 85  37  75]\n",
    " [108  65 132]\n",
    " [126  65 133]]"
   ]
  },
  {
   "cell_type": "markdown",
   "metadata": {},
   "source": [
    "## Write a NumPy program to compute the determinant of a given square array"
   ]
  },
  {
   "cell_type": "code",
   "execution_count": null,
   "metadata": {},
   "outputs": [],
   "source": [
    "import numpy as np\n",
    "\n",
    "x = np.array([[9, 0], [4, 8]])\n",
    "\n",
    "def determinant(array):\n",
    "    \n",
    "    return np.linalg.det(array)\n",
    "\n",
    "print(\"array =\", x)\n",
    "\n",
    "print(\"The determinant is =\" ,determinant(x))\n",
    "\n"
   ]
  },
  {
   "cell_type": "markdown",
   "metadata": {},
   "source": [
    "array = [[9 0]\n",
    " [4 8]]\n",
    "The determinant is = 72.0"
   ]
  },
  {
   "cell_type": "markdown",
   "metadata": {},
   "source": [
    "## Write a NumPy program to compute the cross product of two given vectors"
   ]
  },
  {
   "cell_type": "code",
   "execution_count": null,
   "metadata": {},
   "outputs": [],
   "source": [
    "import numpy as np\n",
    "x = [[9, 2], [4, 8]]\n",
    "\n",
    "y = [[5, 3], [6, 10]]\n",
    "\n",
    "result1 = np.cross(x,y)\n",
    "\n",
    "result2 = np.cross(y,x)\n",
    "\n",
    "print('matrix(1)=', x)\n",
    "\n",
    "print('matrix(2)=', y)\n",
    "\n",
    "print(\"cross product of (x , y):\" , result1)\n",
    "\n",
    "print(\"cross product of (y , x):\" , result2)\n",
    "\n"
   ]
  },
  {
   "cell_type": "markdown",
   "metadata": {},
   "source": [
    "matrix(1)= [[9, 2], [4, 8]]\n",
    "matrix(2)= [[5, 3], [6, 10]]\n",
    "cross product of (x , y): [17 -8]\n",
    "cross product of (y , x): [-17   8]"
   ]
  },
  {
   "cell_type": "markdown",
   "metadata": {},
   "source": [
    "## Write a NumPy program to compute the condition number of a given matrix"
   ]
  },
  {
   "cell_type": "code",
   "execution_count": null,
   "metadata": {},
   "outputs": [],
   "source": [
    "import numpy as np\n",
    "\n",
    "x = np.array([[0 , 2, -3], [2, 1, 0], [7, 0, 9]])\n",
    "\n",
    "def conditionNumber(matrix):\n",
    "    \n",
    "    return np.linalg.cond(matrix)\n",
    "\n",
    "print(\"matrix:\", x)\n",
    "\n",
    "print(\"The condition number of matrix:\",conditionNumber(x))\n",
    "\n"
   ]
  },
  {
   "cell_type": "code",
   "execution_count": null,
   "metadata": {},
   "outputs": [],
   "source": [
    "import numpy as np\n",
    "\n",
    "from numpy import linalg as mp\n",
    "\n",
    "x = np.array([[0 , 2, -3], [2, 1, 0], [7, 0, 9]])\n",
    "\n",
    "print(\"matrix:\", x)\n",
    "\n",
    "print(\"The condition number of matrix:\",mp.cond(x))"
   ]
  },
  {
   "cell_type": "markdown",
   "metadata": {},
   "source": [
    "matrix: [[ 0  2 -3]\n",
    " [ 2  1  0]\n",
    " [ 7  0  9]]\n",
    "The condition number of matrix: 29.77332004373927"
   ]
  },
  {
   "cell_type": "markdown",
   "metadata": {},
   "source": [
    "## Write a NumPy program to compute the inverse of a given matrix"
   ]
  },
  {
   "cell_type": "code",
   "execution_count": null,
   "metadata": {},
   "outputs": [],
   "source": [
    "import numpy as np\n",
    "x = [[2,2],[4,8]]\n",
    "\n",
    "y = np.array(x)\n",
    "\n",
    "result =  np.linalg.inv(y)\n",
    "\n",
    "print(\"matrix:\", y)\n",
    "\n",
    "print(\"Inverse of matrix:\" , result)\n",
    "\n"
   ]
  },
  {
   "cell_type": "markdown",
   "metadata": {},
   "source": [
    "matrix: [[2 2]\n",
    " [4 8]]\n",
    "Inverse of matrix: [[ 1.   -0.25]\n",
    " [-0.5   0.25]]"
   ]
  }
 ],
 "metadata": {
  "kernelspec": {
   "display_name": "Python 3",
   "language": "python",
   "name": "python3"
  },
  "language_info": {
   "codemirror_mode": {
    "name": "ipython",
    "version": 3
   },
   "file_extension": ".py",
   "mimetype": "text/x-python",
   "name": "python",
   "nbconvert_exporter": "python",
   "pygments_lexer": "ipython3",
   "version": "3.7.3"
  }
 },
 "nbformat": 4,
 "nbformat_minor": 2
}
